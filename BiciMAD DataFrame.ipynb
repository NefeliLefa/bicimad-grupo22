{
 "cells": [
  {
   "cell_type": "code",
   "execution_count": 1,
   "metadata": {},
   "outputs": [],
   "source": [
    "from pyspark.sql import SparkSession\n",
    "spark = SparkSession.builder.getOrCreate()"
   ]
  },
  {
   "cell_type": "code",
   "execution_count": 2,
   "metadata": {},
   "outputs": [],
   "source": [
    "df = spark.read.json('sample_10e3.json')"
   ]
  },
  {
   "cell_type": "code",
   "execution_count": 3,
   "metadata": {},
   "outputs": [
    {
     "name": "stdout",
     "output_type": "stream",
     "text": [
      "+--------------------+--------+-----------+--------------+-------------+----------------+-----------+--------------------+--------------------+---------+--------+\n",
      "|                 _id|ageRange|idplug_base|idplug_station|idunplug_base|idunplug_station|travel_time|     unplug_hourTime|       user_day_code|user_type|zip_code|\n",
      "+--------------------+--------+-----------+--------------+-------------+----------------+-----------+--------------------+--------------------+---------+--------+\n",
      "|{5cf83b752f3843a0...|       0|         21|            66|            8|              90|        219|{2019-06-01T00:00...|e4d55deb9ac172a8d...|        1|        |\n",
      "|{5cf83b762f3843a0...|       4|         19|           136|           19|              71|        359|{2019-06-01T00:00...|8a0c4123e924a50a9...|        1|   28039|\n",
      "|{5cf83b762f3843a0...|       4|         17|            38|            7|              39|        375|{2019-06-01T00:00...|a6a9c1f74a6849600...|        1|   28013|\n",
      "|{5cf83b762f3843a0...|       5|          4|            90|           21|              66|        264|{2019-06-01T00:00...|5706c0bd494acc022...|        1|   28009|\n",
      "|{5cf83b762f3843a0...|       4|          3|           166|           13|             152|        367|{2019-06-01T00:00...|eb1b6d32bd4add5d5...|        1|   28006|\n",
      "|{5cf83b762f3843a0...|       5|         14|            53|            4|              55|        174|{2019-06-01T00:00...|c2905f6038aa9523d...|        1|   28907|\n",
      "|{5cf83b762f3843a0...|       0|          2|           129|            6|             133|        308|{2019-06-01T00:00...|f94420744ea060ac4...|        1|        |\n",
      "|{5cf83b762f3843a0...|       4|         21|           169|            3|             153|        462|{2019-06-01T00:00...|e75471af2ea032a32...|        1|   28003|\n",
      "|{5cf83b762f3843a0...|       0|         24|           129|           14|              44|        482|{2019-06-01T00:00...|c0d73ee753773a3bf...|        1|        |\n",
      "|{5cf83b762f3843a0...|       4|         11|           133|           21|              85|        480|{2019-06-01T00:00...|47ecd557f21ca7aee...|        1|   28004|\n",
      "|{5cf83b762f3843a0...|       5|          2|            83|           18|              31|        546|{2019-06-01T00:00...|87ccc3f59b45ef261...|        1|   28007|\n",
      "|{5cf83b762f3843a0...|       0|          7|            53|           15|              38|        519|{2019-06-01T00:00...|05bd8e0842cbfadb8...|        1|        |\n",
      "|{5cf83b762f3843a0...|       4|         24|            13|           17|             118|        374|{2019-06-01T00:00...|812870450df33ac5c...|        1|   39316|\n",
      "|{5cf83b762f3843a0...|       4|         13|            10|            9|              27|        188|{2019-06-01T00:00...|c828f824a86378bf0...|        1|   28012|\n",
      "|{5cf83b762f3843a0...|       4|          2|            74|           20|              90|        133|{2019-06-01T00:00...|538fc94c0d298f7ee...|        1|   28045|\n",
      "|{5cf83b762f3843a0...|       0|         17|            54|           21|             100|        514|{2019-06-01T00:00...|53a9f79ec4c6d60c2...|        1|        |\n",
      "|{5cf83b762f3843a0...|       4|         12|            83|            5|              67|        517|{2019-06-01T00:00...|b27886fecd2db0f3c...|        1|   28008|\n",
      "|{5cf83b762f3843a0...|       4|          5|            83|            3|              67|        525|{2019-06-01T00:00...|eee03ef92db2fe559...|        1|   28019|\n",
      "|{5cf83b762f3843a0...|       0|          9|           163|            5|              63|        351|{2019-06-01T00:00...|b61ef9ebd0342c431...|        1|        |\n",
      "|{5cf83b762f3843a0...|       0|         22|            84|            7|              42|        483|{2019-06-01T00:00...|01bf069d0732b2b01...|        1|        |\n",
      "+--------------------+--------+-----------+--------------+-------------+----------------+-----------+--------------------+--------------------+---------+--------+\n",
      "only showing top 20 rows\n",
      "\n"
     ]
    },
    {
     "data": {
      "text/plain": [
       "1000"
      ]
     },
     "execution_count": 3,
     "metadata": {},
     "output_type": "execute_result"
    }
   ],
   "source": [
    "df.show()\n",
    "df.count()"
   ]
  },
  {
   "cell_type": "code",
   "execution_count": 4,
   "metadata": {},
   "outputs": [
    {
     "name": "stdout",
     "output_type": "stream",
     "text": [
      "+--------+--------------+----------------+-----------+--------------------+---------+--------+\n",
      "|ageRange|idplug_station|idunplug_station|travel_time|       user_day_code|user_type|zip_code|\n",
      "+--------+--------------+----------------+-----------+--------------------+---------+--------+\n",
      "|       0|            66|              90|        219|e4d55deb9ac172a8d...|        1|        |\n",
      "|       4|           136|              71|        359|8a0c4123e924a50a9...|        1|   28039|\n",
      "|       4|            38|              39|        375|a6a9c1f74a6849600...|        1|   28013|\n",
      "|       5|            90|              66|        264|5706c0bd494acc022...|        1|   28009|\n",
      "|       4|           166|             152|        367|eb1b6d32bd4add5d5...|        1|   28006|\n",
      "|       5|            53|              55|        174|c2905f6038aa9523d...|        1|   28907|\n",
      "|       0|           129|             133|        308|f94420744ea060ac4...|        1|        |\n",
      "|       4|           169|             153|        462|e75471af2ea032a32...|        1|   28003|\n",
      "|       0|           129|              44|        482|c0d73ee753773a3bf...|        1|        |\n",
      "|       4|           133|              85|        480|47ecd557f21ca7aee...|        1|   28004|\n",
      "|       5|            83|              31|        546|87ccc3f59b45ef261...|        1|   28007|\n",
      "|       0|            53|              38|        519|05bd8e0842cbfadb8...|        1|        |\n",
      "|       4|            13|             118|        374|812870450df33ac5c...|        1|   39316|\n",
      "|       4|            10|              27|        188|c828f824a86378bf0...|        1|   28012|\n",
      "|       4|            74|              90|        133|538fc94c0d298f7ee...|        1|   28045|\n",
      "|       0|            54|             100|        514|53a9f79ec4c6d60c2...|        1|        |\n",
      "|       4|            83|              67|        517|b27886fecd2db0f3c...|        1|   28008|\n",
      "|       4|            83|              67|        525|eee03ef92db2fe559...|        1|   28019|\n",
      "|       0|           163|              63|        351|b61ef9ebd0342c431...|        1|        |\n",
      "|       0|            84|              42|        483|01bf069d0732b2b01...|        1|        |\n",
      "+--------+--------------+----------------+-----------+--------------------+---------+--------+\n",
      "only showing top 20 rows\n",
      "\n"
     ]
    }
   ],
   "source": [
    "df = df.drop('_id','unplug_hourTime','idplug_base','idunplug_base','track')\n",
    "df.show()\n",
    "# to fit df in page and see more clearly the results"
   ]
  },
  {
   "cell_type": "code",
   "execution_count": 5,
   "metadata": {},
   "outputs": [
    {
     "name": "stdout",
     "output_type": "stream",
     "text": [
      "+---------+-----+\n",
      "|user_type|count|\n",
      "+---------+-----+\n",
      "|        1|  954|\n",
      "|        3|   36|\n",
      "|        2|   10|\n",
      "+---------+-----+\n",
      "\n"
     ]
    }
   ],
   "source": [
    "#1 Contar cada tipo\n",
    "df.groupBy('user_type').count().show()"
   ]
  },
  {
   "cell_type": "code",
   "execution_count": 6,
   "metadata": {},
   "outputs": [
    {
     "name": "stdout",
     "output_type": "stream",
     "text": [
      "+--------+--------------+----------------+-----------+--------------------+---------+--------+\n",
      "|ageRange|idplug_station|idunplug_station|travel_time|       user_day_code|user_type|zip_code|\n",
      "+--------+--------------+----------------+-----------+--------------------+---------+--------+\n",
      "|       0|            66|              90|        219|e4d55deb9ac172a8d...|        1|        |\n",
      "|       4|           136|              71|        359|8a0c4123e924a50a9...|        1|   28039|\n",
      "|       4|            38|              39|        375|a6a9c1f74a6849600...|        1|   28013|\n",
      "|       5|            90|              66|        264|5706c0bd494acc022...|        1|   28009|\n",
      "|       4|           166|             152|        367|eb1b6d32bd4add5d5...|        1|   28006|\n",
      "|       5|            53|              55|        174|c2905f6038aa9523d...|        1|   28907|\n",
      "|       0|           129|             133|        308|f94420744ea060ac4...|        1|        |\n",
      "|       4|           169|             153|        462|e75471af2ea032a32...|        1|   28003|\n",
      "|       0|           129|              44|        482|c0d73ee753773a3bf...|        1|        |\n",
      "|       4|           133|              85|        480|47ecd557f21ca7aee...|        1|   28004|\n",
      "|       5|            83|              31|        546|87ccc3f59b45ef261...|        1|   28007|\n",
      "|       0|            53|              38|        519|05bd8e0842cbfadb8...|        1|        |\n",
      "|       4|            13|             118|        374|812870450df33ac5c...|        1|   39316|\n",
      "|       4|            10|              27|        188|c828f824a86378bf0...|        1|   28012|\n",
      "|       4|            74|              90|        133|538fc94c0d298f7ee...|        1|   28045|\n",
      "|       0|            54|             100|        514|53a9f79ec4c6d60c2...|        1|        |\n",
      "|       4|            83|              67|        517|b27886fecd2db0f3c...|        1|   28008|\n",
      "|       4|            83|              67|        525|eee03ef92db2fe559...|        1|   28019|\n",
      "|       0|           163|              63|        351|b61ef9ebd0342c431...|        1|        |\n",
      "|       0|            84|              42|        483|01bf069d0732b2b01...|        1|        |\n",
      "+--------+--------------+----------------+-----------+--------------------+---------+--------+\n",
      "only showing top 20 rows\n",
      "\n"
     ]
    },
    {
     "data": {
      "text/plain": [
       "954"
      ]
     },
     "execution_count": 6,
     "metadata": {},
     "output_type": "execute_result"
    }
   ],
   "source": [
    "#2 Filtro\n",
    "df1 = df.filter(df[\"user_type\"]==1)\n",
    "df1.show()\n",
    "df1.count()"
   ]
  },
  {
   "cell_type": "code",
   "execution_count": 7,
   "metadata": {},
   "outputs": [
    {
     "name": "stdout",
     "output_type": "stream",
     "text": [
      "+--------------------+-----+\n",
      "|       user_day_code|count|\n",
      "+--------------------+-----+\n",
      "|09a6027e878367958...|    1|\n",
      "|44a2f14b1b0530470...|    1|\n",
      "|a1e5829f6bb2030d7...|    2|\n",
      "|1a5224b9187592e7a...|    1|\n",
      "|e713d58a5633e3354...|    1|\n",
      "|95f83469127a3b4fd...|    1|\n",
      "|f94420744ea060ac4...|    1|\n",
      "|a2938ade459e8f830...|    1|\n",
      "|2a8c003ec0b5d0cbe...|    3|\n",
      "|7377dfcef4046126e...|    1|\n",
      "|d40a266a8227c759f...|    1|\n",
      "|0e1c57792c4f51051...|    1|\n",
      "|cbced4da6d7141cc1...|    1|\n",
      "|996052e3c5a91448b...|    1|\n",
      "|6ee268a3bc57d4e33...|    1|\n",
      "|d47774dc35c7defb4...|    2|\n",
      "|86d5a12d6e7fc0d11...|    1|\n",
      "|7a52c74b4801603ec...|    1|\n",
      "|8a0925817d7e25a58...|    1|\n",
      "|395d9209eb1cd5f4a...|    1|\n",
      "+--------------------+-----+\n",
      "only showing top 20 rows\n",
      "\n"
     ]
    }
   ],
   "source": [
    "#3\n",
    "df_trips = df1.groupBy('user_day_code').count()\n",
    "df_trips.show()"
   ]
  },
  {
   "cell_type": "code",
   "execution_count": 8,
   "metadata": {},
   "outputs": [
    {
     "name": "stdout",
     "output_type": "stream",
     "text": [
      "+--------------------+-----+\n",
      "|       user_day_code|count|\n",
      "+--------------------+-----+\n",
      "|09a6027e878367958...|    1|\n",
      "|44a2f14b1b0530470...|    1|\n",
      "|1a5224b9187592e7a...|    1|\n",
      "|e713d58a5633e3354...|    1|\n",
      "|95f83469127a3b4fd...|    1|\n",
      "|f94420744ea060ac4...|    1|\n",
      "|a2938ade459e8f830...|    1|\n",
      "|7377dfcef4046126e...|    1|\n",
      "|d40a266a8227c759f...|    1|\n",
      "|0e1c57792c4f51051...|    1|\n",
      "|cbced4da6d7141cc1...|    1|\n",
      "|996052e3c5a91448b...|    1|\n",
      "|6ee268a3bc57d4e33...|    1|\n",
      "|86d5a12d6e7fc0d11...|    1|\n",
      "|7a52c74b4801603ec...|    1|\n",
      "|8a0925817d7e25a58...|    1|\n",
      "|395d9209eb1cd5f4a...|    1|\n",
      "|086b097e208485359...|    1|\n",
      "|4e15ef46aad6d14ce...|    1|\n",
      "|4649ff0d3a8cebfeb...|    1|\n",
      "+--------------------+-----+\n",
      "only showing top 20 rows\n",
      "\n"
     ]
    }
   ],
   "source": [
    "df_trips.filter(df_trips['count']==1).show()"
   ]
  },
  {
   "cell_type": "code",
   "execution_count": 32,
   "metadata": {},
   "outputs": [
    {
     "name": "stdout",
     "output_type": "stream",
     "text": [
      "+--------------------+-----+\n",
      "|       user_day_code|count|\n",
      "+--------------------+-----+\n",
      "|09a6027e878367958...|    1|\n",
      "|44a2f14b1b0530470...|    1|\n",
      "|1a5224b9187592e7a...|    1|\n",
      "|e713d58a5633e3354...|    1|\n",
      "|95f83469127a3b4fd...|    1|\n",
      "|f94420744ea060ac4...|    1|\n",
      "|a2938ade459e8f830...|    1|\n",
      "|7377dfcef4046126e...|    1|\n",
      "|d40a266a8227c759f...|    1|\n",
      "|0e1c57792c4f51051...|    1|\n",
      "|cbced4da6d7141cc1...|    1|\n",
      "|996052e3c5a91448b...|    1|\n",
      "|6ee268a3bc57d4e33...|    1|\n",
      "|86d5a12d6e7fc0d11...|    1|\n",
      "|7a52c74b4801603ec...|    1|\n",
      "|8a0925817d7e25a58...|    1|\n",
      "|395d9209eb1cd5f4a...|    1|\n",
      "|086b097e208485359...|    1|\n",
      "|4e15ef46aad6d14ce...|    1|\n",
      "|4649ff0d3a8cebfeb...|    1|\n",
      "+--------------------+-----+\n",
      "only showing top 20 rows\n",
      "\n"
     ]
    }
   ],
   "source": [
    "#lo mismo en una línea\n",
    "from pyspark.sql.functions import col\n",
    "df1.groupBy('user_day_code').count().alias('trips').filter(col('trips.count')==1).show()"
   ]
  },
  {
   "cell_type": "code",
   "execution_count": 10,
   "metadata": {},
   "outputs": [
    {
     "name": "stdout",
     "output_type": "stream",
     "text": [
      "+-----+-----+\n",
      "|count|count|\n",
      "+-----+-----+\n",
      "|    1|  873|\n",
      "|    3|    1|\n",
      "|    2|   39|\n",
      "+-----+-----+\n",
      "\n"
     ]
    }
   ],
   "source": [
    "#4. Histograma de viajes\n",
    "df1.groupBy('user_day_code').count().groupBy('count').count().show()"
   ]
  },
  {
   "cell_type": "code",
   "execution_count": 11,
   "metadata": {},
   "outputs": [
    {
     "name": "stdout",
     "output_type": "stream",
     "text": [
      "+-----------+-----+\n",
      "|trip_number|count|\n",
      "+-----------+-----+\n",
      "|          1|  873|\n",
      "|          3|    1|\n",
      "|          2|   39|\n",
      "+-----------+-----+\n",
      "\n"
     ]
    }
   ],
   "source": [
    "df1.groupBy('user_day_code').count().withColumnRenamed('count','trip_number').\\\n",
    "    groupBy('trip_number').count().show()"
   ]
  },
  {
   "cell_type": "code",
   "execution_count": 12,
   "metadata": {},
   "outputs": [],
   "source": [
    "#5. Return trip. \n",
    "\n",
    "#En las celdas anteriores, vemos que al agrupar perdemos la información.  \n",
    "#se echa de menos el poder trabajar con los datos agregados.\n"
   ]
  },
  {
   "cell_type": "code",
   "execution_count": 13,
   "metadata": {},
   "outputs": [
    {
     "name": "stdout",
     "output_type": "stream",
     "text": [
      "+--------------------+------------------------------------------------------+\n",
      "|       user_day_code|collect_list(struct(idunplug_station, idplug_station))|\n",
      "+--------------------+------------------------------------------------------+\n",
      "|003a61da2de58f96b...|                                             [{9, 16}]|\n",
      "|004b59e8e915fea89...|                                          [{171, 106}]|\n",
      "|00c762bdd28e33ad6...|                                            [{19, 90}]|\n",
      "|00e51402a96f66595...|                                            [{26, 79}]|\n",
      "|01232b2ca4316d5a8...|                                           [{12, 174}]|\n",
      "|015d7f04c3112bc80...|                                           [{174, 31}]|\n",
      "|016def195d7b6e1f9...|                                           [{156, 63}]|\n",
      "|0171f8de1acd7d8c7...|                                            [{62, 82}]|\n",
      "|017cc6f6baa1d23a0...|                                            [{88, 54}]|\n",
      "|019909d2442ab142c...|                                            [{90, 82}]|\n",
      "|01afe1971a4a4fa91...|                                            [{76, 81}]|\n",
      "|01bf069d0732b2b01...|                                            [{42, 84}]|\n",
      "|01ce39793f7b766e3...|                                          [{169, 149}]|\n",
      "|0247f880037914475...|                                            [{84, 57}]|\n",
      "|02cb8492c91c06764...|                                           [{169, 26}]|\n",
      "|02f00ebaf4701793d...|                                            [{90, 82}]|\n",
      "|0382218c6e10772dc...|                                   [{45, 71}, {71, 8}]|\n",
      "|039ae0fa68bc44bf0...|                                          [{111, 155}]|\n",
      "|03d3c2c2df2d08e0f...|                                           [{135, 51}]|\n",
      "|0444abbe992567898...|                                            [{38, 52}]|\n",
      "+--------------------+------------------------------------------------------+\n",
      "only showing top 20 rows\n",
      "\n"
     ]
    }
   ],
   "source": [
    "from pyspark.sql.functions import collect_list, struct\n",
    "dfg = df.groupBy('user_day_code').agg(collect_list(struct('idunplug_station','idplug_station')))\n",
    "dfg.show()"
   ]
  },
  {
   "cell_type": "code",
   "execution_count": 14,
   "metadata": {},
   "outputs": [
    {
     "name": "stdout",
     "output_type": "stream",
     "text": [
      "+--------------------+-------------------+\n",
      "|       user_day_code|             result|\n",
      "+--------------------+-------------------+\n",
      "|003a61da2de58f96b...|          [{9, 16}]|\n",
      "|004b59e8e915fea89...|       [{171, 106}]|\n",
      "|00c762bdd28e33ad6...|         [{19, 90}]|\n",
      "|00e51402a96f66595...|         [{26, 79}]|\n",
      "|01232b2ca4316d5a8...|        [{12, 174}]|\n",
      "|015d7f04c3112bc80...|        [{174, 31}]|\n",
      "|016def195d7b6e1f9...|        [{156, 63}]|\n",
      "|0171f8de1acd7d8c7...|         [{62, 82}]|\n",
      "|017cc6f6baa1d23a0...|         [{88, 54}]|\n",
      "|019909d2442ab142c...|         [{90, 82}]|\n",
      "|01afe1971a4a4fa91...|         [{76, 81}]|\n",
      "|01bf069d0732b2b01...|         [{42, 84}]|\n",
      "|01ce39793f7b766e3...|       [{169, 149}]|\n",
      "|0247f880037914475...|         [{84, 57}]|\n",
      "|02cb8492c91c06764...|        [{169, 26}]|\n",
      "|02f00ebaf4701793d...|         [{90, 82}]|\n",
      "|0382218c6e10772dc...|[{45, 71}, {71, 8}]|\n",
      "|039ae0fa68bc44bf0...|       [{111, 155}]|\n",
      "|03d3c2c2df2d08e0f...|        [{135, 51}]|\n",
      "|0444abbe992567898...|         [{38, 52}]|\n",
      "+--------------------+-------------------+\n",
      "only showing top 20 rows\n",
      "\n"
     ]
    }
   ],
   "source": [
    "dfg = df.groupBy('user_day_code').\\\n",
    "    agg(collect_list(struct('idunplug_station','idplug_station')).alias('result'))\n",
    "dfg.show()"
   ]
  },
  {
   "cell_type": "code",
   "execution_count": 15,
   "metadata": {},
   "outputs": [],
   "source": [
    "#aplicar la función de abajo...para calcular la longitud... ver si podemos hacer más cosas, como ver \n",
    "# que es un round trip"
   ]
  },
  {
   "cell_type": "code",
   "execution_count": 19,
   "metadata": {},
   "outputs": [
    {
     "name": "stdout",
     "output_type": "stream",
     "text": [
      "+-----------------------+\n",
      "|<lambda>(user_day_code)|\n",
      "+-----------------------+\n",
      "|                     64|\n",
      "|                     64|\n",
      "|                     64|\n",
      "|                     64|\n",
      "|                     64|\n",
      "|                     64|\n",
      "|                     64|\n",
      "|                     64|\n",
      "|                     64|\n",
      "|                     64|\n",
      "|                     64|\n",
      "|                     64|\n",
      "|                     64|\n",
      "|                     64|\n",
      "|                     64|\n",
      "|                     64|\n",
      "|                     64|\n",
      "|                     64|\n",
      "|                     64|\n",
      "|                     64|\n",
      "+-----------------------+\n",
      "only showing top 20 rows\n",
      "\n"
     ]
    }
   ],
   "source": [
    "from pyspark.sql.functions import udf\n",
    "from pyspark.sql.types import IntegerType\n",
    "\n",
    "trips_len = udf(lambda x: len(x), IntegerType())\n",
    "dfg.select(trips_len('user_day_code')).show()"
   ]
  },
  {
   "cell_type": "code",
   "execution_count": 13,
   "metadata": {},
   "outputs": [
    {
     "name": "stdout",
     "output_type": "stream",
     "text": [
      "+--------------------+-------------------+-------+\n",
      "|       user_day_code|             result|len_udc|\n",
      "+--------------------+-------------------+-------+\n",
      "|003a61da2de58f96b...|          [{9, 16}]|     64|\n",
      "|004b59e8e915fea89...|       [{171, 106}]|     64|\n",
      "|00c762bdd28e33ad6...|         [{19, 90}]|     64|\n",
      "|00e51402a96f66595...|         [{26, 79}]|     64|\n",
      "|01232b2ca4316d5a8...|        [{12, 174}]|     64|\n",
      "|015d7f04c3112bc80...|        [{174, 31}]|     64|\n",
      "|016def195d7b6e1f9...|        [{156, 63}]|     64|\n",
      "|0171f8de1acd7d8c7...|         [{62, 82}]|     64|\n",
      "|017cc6f6baa1d23a0...|         [{88, 54}]|     64|\n",
      "|019909d2442ab142c...|         [{90, 82}]|     64|\n",
      "|01afe1971a4a4fa91...|         [{76, 81}]|     64|\n",
      "|01bf069d0732b2b01...|         [{42, 84}]|     64|\n",
      "|01ce39793f7b766e3...|       [{169, 149}]|     64|\n",
      "|0247f880037914475...|         [{84, 57}]|     64|\n",
      "|02cb8492c91c06764...|        [{169, 26}]|     64|\n",
      "|02f00ebaf4701793d...|         [{90, 82}]|     64|\n",
      "|0382218c6e10772dc...|[{45, 71}, {71, 8}]|     64|\n",
      "|039ae0fa68bc44bf0...|       [{111, 155}]|     64|\n",
      "|03d3c2c2df2d08e0f...|        [{135, 51}]|     64|\n",
      "|0444abbe992567898...|         [{38, 52}]|     64|\n",
      "+--------------------+-------------------+-------+\n",
      "only showing top 20 rows\n",
      "\n"
     ]
    }
   ],
   "source": [
    "dfg2 = dfg.withColumn('len_udc', trips_len(dfg['user_day_code']))\n",
    "dfg2.show()"
   ]
  },
  {
   "cell_type": "code",
   "execution_count": 34,
   "metadata": {},
   "outputs": [
    {
     "name": "stdout",
     "output_type": "stream",
     "text": [
      "+--------------------+--------------------+----------+\n",
      "|       user_day_code|              result|round_trip|\n",
      "+--------------------+--------------------+----------+\n",
      "|13b9c8b5ffecc4d2a...|[{125, 6}, {6, 125}]|      true|\n",
      "|6fb07b5e128af9a6b...|[{57, 19}, {19, 57}]|      true|\n",
      "|a1e5829f6bb2030d7...|[{129, 57}, {57, ...|      true|\n",
      "|b10c476e28ef97b3f...|[{96, 114}, {114,...|      true|\n",
      "|bcef457f1234cc899...|[{96, 114}, {114,...|      true|\n",
      "|f7f4cd3b9b0f8c51b...|[{62, 169}, {169,...|      true|\n",
      "+--------------------+--------------------+----------+\n",
      "\n"
     ]
    }
   ],
   "source": [
    "from pyspark.sql.types import BooleanType\n",
    "\n",
    "def round_trip(x):\n",
    "    if len(x) != 2:\n",
    "        return False\n",
    "    else:\n",
    "        return x[0][1] == x[1][0] and x[0][0] == x[1][1]\n",
    "\n",
    "round_trip_udf = udf(lambda x: round_trip(x), BooleanType())\n",
    "\n",
    "dfg.withColumn('round_trip', round_trip_udf(dfg['result'])).alias('dfgrt').filter(col('dfgrt.round_trip')).show()\n"
   ]
  }
 ],
 "metadata": {
  "kernelspec": {
   "display_name": "Python 3",
   "language": "python",
   "name": "python3"
  },
  "language_info": {
   "codemirror_mode": {
    "name": "ipython",
    "version": 3
   },
   "file_extension": ".py",
   "mimetype": "text/x-python",
   "name": "python",
   "nbconvert_exporter": "python",
   "pygments_lexer": "ipython3",
   "version": "3.8.10"
  }
 },
 "nbformat": 4,
 "nbformat_minor": 4
}
