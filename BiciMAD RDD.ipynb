{
 "cells": [
  {
   "cell_type": "code",
   "execution_count": 1,
   "metadata": {},
   "outputs": [],
   "source": [
    "from pyspark import SparkContext\n",
    "sc = SparkContext()"
   ]
  },
  {
   "cell_type": "code",
   "execution_count": 2,
   "metadata": {},
   "outputs": [
    {
     "name": "stdout",
     "output_type": "stream",
     "text": [
      "{ \"_id\" : { \"$oid\" : \"5cf83b752f3843a016be4e2f\" }, \"user_day_code\" : \"e4d55deb9ac172a8d8f5f0a32599815bd51b7c8760d67e42b11adf7c0829341b\", \"idplug_base\" : 21, \"user_type\" : 1, \"idunplug_base\" : 8, \"travel_time\" : 219, \"idunplug_station\" : 90, \"ageRange\" : 0, \"idplug_station\" : 66, \"unplug_hourTime\" : { \"$date\" : \"2019-06-01T00:00:00.000+0200\" }, \"zip_code\" : \"\" }\r",
      "\r\n",
      "{ \"_id\" : { \"$oid\" : \"5cf83b762f3843a016be4e48\" }, \"user_day_code\" : \"8a0c4123e924a50a958f51985eb71aea750fb072438035f149283490cc6bfaf4\", \"idplug_base\" : 19, \"user_type\" : 1, \"idunplug_base\" : 19, \"travel_time\" : 359, \"idunplug_station\" : 71, \"ageRange\" : 4, \"idplug_station\" : 136, \"unplug_hourTime\" : { \"$date\" : \"2019-06-01T00:00:00.000+0200\" }, \"zip_code\" : \"28039\" }\r",
      "\r\n",
      "{ \"_id\" : { \"$oid\" : \"5cf83b762f3843a016be4e4f\" }, \"user_day_code\" : \"a6a9c1f74a68496000542210abc4fc2eba79e2756ad5355a626632f7783dd418\", \"idplug_base\" : 17, \"user_type\" : 1, \"idunplug_base\" : 7, \"travel_time\" : 375, \"idunplug_station\" : 39, \"ageRange\" : 4, \"idplug_station\" : 38, \"unplug_hourTime\" : { \"$date\" : \"2019-06-01T00:00:00.000+0200\" }, \"zip_code\" : \"28013\" }\r",
      "\r\n",
      "{ \"_id\" : { \"$oid\" : \"5cf83b762f3843a016be4e53\" }, \"user_day_code\" : \"5706c0bd494acc02279d532821c9666b0e506d4f81c838ef3147b2e0abbe7156\", \"idplug_base\" : 4, \"user_type\" : 1, \"idunplug_base\" : 21, \"travel_time\" : 264, \"idunplug_station\" : 66, \"ageRange\" : 5, \"idplug_station\" : 90, \"unplug_hourTime\" : { \"$date\" : \"2019-06-01T00:00:00.000+0200\" }, \"zip_code\" : \"28009\" }\r",
      "\r\n",
      "{ \"_id\" : { \"$oid\" : \"5cf83b762f3843a016be4e54\" }, \"user_day_code\" : \"eb1b6d32bd4add5d5ff91af72a38786d61075c090383a53882f33b0801eb0079\", \"idplug_base\" : 3, \"user_type\" : 1, \"idunplug_base\" : 13, \"travel_time\" : 367, \"idunplug_station\" : 152, \"ageRange\" : 4, \"idplug_station\" : 166, \"unplug_hourTime\" : { \"$date\" : \"2019-06-01T00:00:00.000+0200\" }, \"zip_code\" : \"28006\" }\r",
      "\r\n",
      "{ \"_id\" : { \"$oid\" : \"5cf83b762f3843a016be4e56\" }, \"user_day_code\" : \"c2905f6038aa9523da6bc3222c63c2ec3269c69281bf34eac161eed1ae2ba5f4\", \"idplug_base\" : 14, \"user_type\" : 1, \"idunplug_base\" : 4, \"travel_time\" : 174, \"idunplug_station\" : 55, \"ageRange\" : 5, \"idplug_station\" : 53, \"unplug_hourTime\" : { \"$date\" : \"2019-06-01T00:00:00.000+0200\" }, \"zip_code\" : \"28907\" }\r",
      "\r\n",
      "{ \"_id\" : { \"$oid\" : \"5cf83b762f3843a016be4e59\" }, \"user_day_code\" : \"f94420744ea060ac42ef3901cb251bb5b4ff63033be7bcb96d8764b968912691\", \"idplug_base\" : 2, \"user_type\" : 1, \"idunplug_base\" : 6, \"travel_time\" : 308, \"idunplug_station\" : 133, \"ageRange\" : 0, \"idplug_station\" : 129, \"unplug_hourTime\" : { \"$date\" : \"2019-06-01T00:00:00.000+0200\" }, \"zip_code\" : \"\" }\r",
      "\r\n",
      "{ \"_id\" : { \"$oid\" : \"5cf83b762f3843a016be4e5a\" }, \"user_day_code\" : \"e75471af2ea032a327f636e28b8603c4cddab9155948fca85e82ec2f73c2bd1a\", \"idplug_base\" : 21, \"user_type\" : 1, \"idunplug_base\" : 3, \"travel_time\" : 462, \"idunplug_station\" : 153, \"ageRange\" : 4, \"idplug_station\" : 169, \"unplug_hourTime\" : { \"$date\" : \"2019-06-01T00:00:00.000+0200\" }, \"zip_code\" : \"28003\" }\r",
      "\r\n",
      "{ \"_id\" : { \"$oid\" : \"5cf83b762f3843a016be4e5c\" }, \"user_day_code\" : \"c0d73ee753773a3bfcc1483366a6ee68be9524dafbf65e81d31f4509d73304ac\", \"idplug_base\" : 24, \"user_type\" : 1, \"idunplug_base\" : 14, \"travel_time\" : 482, \"idunplug_station\" : 44, \"ageRange\" : 0, \"idplug_station\" : 129, \"unplug_hourTime\" : { \"$date\" : \"2019-06-01T00:00:00.000+0200\" }, \"zip_code\" : \"\" }\r",
      "\r\n",
      "{ \"_id\" : { \"$oid\" : \"5cf83b762f3843a016be4e61\" }, \"user_day_code\" : \"47ecd557f21ca7aee6235dc015c6eaa7cea5e99e3aa8fbdfac8a308bb093f552\", \"idplug_base\" : 11, \"user_type\" : 1, \"idunplug_base\" : 21, \"travel_time\" : 480, \"idunplug_station\" : 85, \"ageRange\" : 4, \"idplug_station\" : 133, \"unplug_hourTime\" : { \"$date\" : \"2019-06-01T00:00:00.000+0200\" }, \"zip_code\" : \"28004\" }\r",
      "\r\n"
     ]
    }
   ],
   "source": [
    "!head -10 sample_10e3.json"
   ]
  },
  {
   "cell_type": "code",
   "execution_count": 3,
   "metadata": {},
   "outputs": [],
   "source": [
    "import json"
   ]
  },
  {
   "cell_type": "code",
   "execution_count": 4,
   "metadata": {},
   "outputs": [
    {
     "data": {
      "text/plain": [
       "{'_id': {'$oid': '5cf83b752f3843a016be4e2f'},\n",
       " 'user_day_code': 'e4d55deb9ac172a8d8f5f0a32599815bd51b7c8760d67e42b11adf7c0829341b',\n",
       " 'idplug_base': 21,\n",
       " 'user_type': 1,\n",
       " 'idunplug_base': 8,\n",
       " 'travel_time': 219,\n",
       " 'idunplug_station': 90,\n",
       " 'ageRange': 0,\n",
       " 'idplug_station': 66,\n",
       " 'unplug_hourTime': {'$date': '2019-06-01T00:00:00.000+0200'},\n",
       " 'zip_code': ''}"
      ]
     },
     "execution_count": 4,
     "metadata": {},
     "output_type": "execute_result"
    }
   ],
   "source": [
    "s = '{ \"_id\" : { \"$oid\" : \"5cf83b752f3843a016be4e2f\" }, \"user_day_code\" : \"e4d55deb9ac172a8d8f5f0a32599815bd51b7c8760d67e42b11adf7c0829341b\", \"idplug_base\" : 21, \"user_type\" : 1, \"idunplug_base\" : 8, \"travel_time\" : 219, \"idunplug_station\" : 90, \"ageRange\" : 0, \"idplug_station\" : 66, \"unplug_hourTime\" : { \"$date\" : \"2019-06-01T00:00:00.000+0200\" }, \"zip_code\" : \"\" }'\n",
    "data = json.loads(s)\n",
    "data"
   ]
  },
  {
   "cell_type": "code",
   "execution_count": 5,
   "metadata": {},
   "outputs": [],
   "source": [
    "rdd_base = sc.textFile('sample_10e3.json')"
   ]
  },
  {
   "cell_type": "code",
   "execution_count": 6,
   "metadata": {},
   "outputs": [],
   "source": [
    "def mapper(line):\n",
    "    data = json.loads(line)\n",
    "    u_t = data['user_type']\n",
    "    u_c = data['user_day_code']\n",
    "    start = data['idunplug_station']\n",
    "    end = data['idplug_station']\n",
    "    time = data['travel_time']\n",
    "    return u_t, u_c, start, end, time\n"
   ]
  },
  {
   "cell_type": "code",
   "execution_count": 7,
   "metadata": {},
   "outputs": [],
   "source": [
    "rdd = rdd_base.map(mapper)"
   ]
  },
  {
   "cell_type": "code",
   "execution_count": 8,
   "metadata": {},
   "outputs": [
    {
     "data": {
      "text/plain": [
       "[(1,\n",
       "  'e4d55deb9ac172a8d8f5f0a32599815bd51b7c8760d67e42b11adf7c0829341b',\n",
       "  90,\n",
       "  66,\n",
       "  219),\n",
       " (1,\n",
       "  '8a0c4123e924a50a958f51985eb71aea750fb072438035f149283490cc6bfaf4',\n",
       "  71,\n",
       "  136,\n",
       "  359),\n",
       " (1,\n",
       "  'a6a9c1f74a68496000542210abc4fc2eba79e2756ad5355a626632f7783dd418',\n",
       "  39,\n",
       "  38,\n",
       "  375)]"
      ]
     },
     "execution_count": 8,
     "metadata": {},
     "output_type": "execute_result"
    }
   ],
   "source": [
    "rdd.take(3)"
   ]
  },
  {
   "cell_type": "markdown",
   "metadata": {},
   "source": [
    "## Usuarios por Tipo"
   ]
  },
  {
   "cell_type": "code",
   "execution_count": 9,
   "metadata": {},
   "outputs": [
    {
     "data": {
      "text/plain": [
       "defaultdict(int, {1: 954, 2: 10, 3: 36})"
      ]
     },
     "execution_count": 9,
     "metadata": {},
     "output_type": "execute_result"
    }
   ],
   "source": [
    "#Sol 1. Partimos de los datos rdd\n",
    "rdd.countByKey()"
   ]
  },
  {
   "cell_type": "code",
   "execution_count": 10,
   "metadata": {},
   "outputs": [
    {
     "data": {
      "text/plain": [
       "defaultdict(int, {1: 954, 2: 10, 3: 36})"
      ]
     },
     "execution_count": 10,
     "metadata": {},
     "output_type": "execute_result"
    }
   ],
   "source": [
    "#Sol 2. Partimos de los datos originales y definimos un mapeo particular para este caso.\n",
    "def map_user(line):\n",
    "    data = json.loads(line)\n",
    "    u_t = data['user_type']\n",
    "    return u_t\n",
    "rdd_base.map(map_user).countByValue()"
   ]
  },
  {
   "cell_type": "markdown",
   "metadata": {},
   "source": [
    "## Selección de usuarios"
   ]
  },
  {
   "cell_type": "code",
   "execution_count": 11,
   "metadata": {},
   "outputs": [],
   "source": [
    "#Usando una asignación de variable para seleccionar el tipo\n",
    "selected_type = 1\n",
    "rdd_users = rdd.filter(lambda x: x[0]==selected_type).map(lambda x: (x[1],tuple(x[2:])))"
   ]
  },
  {
   "cell_type": "code",
   "execution_count": 12,
   "metadata": {},
   "outputs": [
    {
     "data": {
      "text/plain": [
       "[('e4d55deb9ac172a8d8f5f0a32599815bd51b7c8760d67e42b11adf7c0829341b',\n",
       "  (90, 66, 219))]"
      ]
     },
     "execution_count": 12,
     "metadata": {},
     "output_type": "execute_result"
    }
   ],
   "source": [
    "rdd_users.take(1)"
   ]
  },
  {
   "cell_type": "code",
   "execution_count": 13,
   "metadata": {},
   "outputs": [
    {
     "data": {
      "text/plain": [
       "954"
      ]
     },
     "execution_count": 13,
     "metadata": {},
     "output_type": "execute_result"
    }
   ],
   "source": [
    "rdd_users.count()"
   ]
  },
  {
   "cell_type": "code",
   "execution_count": 14,
   "metadata": {},
   "outputs": [
    {
     "data": {
      "text/plain": [
       "10"
      ]
     },
     "execution_count": 14,
     "metadata": {},
     "output_type": "execute_result"
    }
   ],
   "source": [
    "#El RDD no se evalúa, por tanto, si cambiamos el tipo:\n",
    "selected_type = 2\n",
    "rdd_users.count()"
   ]
  },
  {
   "cell_type": "code",
   "execution_count": 15,
   "metadata": {},
   "outputs": [
    {
     "data": {
      "text/plain": [
       "36"
      ]
     },
     "execution_count": 15,
     "metadata": {},
     "output_type": "execute_result"
    }
   ],
   "source": [
    "selected_type = 3\n",
    "rdd_users.count()"
   ]
  },
  {
   "cell_type": "code",
   "execution_count": 17,
   "metadata": {},
   "outputs": [
    {
     "data": {
      "text/plain": [
       "36"
      ]
     },
     "execution_count": 17,
     "metadata": {},
     "output_type": "execute_result"
    }
   ],
   "source": [
    "rdd_users.cache()  # Aunque el rdd no se evalúe se fija el valor de selected type\n",
    "selected_type = 1\n",
    "rdd_users.count()"
   ]
  },
  {
   "cell_type": "markdown",
   "metadata": {},
   "source": [
    "## Usuarios con un solo uso diario"
   ]
  },
  {
   "cell_type": "code",
   "execution_count": 33,
   "metadata": {},
   "outputs": [
    {
     "data": {
      "text/plain": [
       "954"
      ]
     },
     "execution_count": 33,
     "metadata": {},
     "output_type": "execute_result"
    }
   ],
   "source": [
    "select_type = 1\n",
    "rdd_users = rdd.filter(lambda x: x[0]==selected_type).map(lambda x: (x[1],tuple(x[2:])))\n",
    "rdd_users.count()"
   ]
  },
  {
   "cell_type": "code",
   "execution_count": 34,
   "metadata": {},
   "outputs": [
    {
     "data": {
      "text/plain": [
       "[1, 1, 1, 1, 1, 1, 1, 1, 1, 1]"
      ]
     },
     "execution_count": 34,
     "metadata": {},
     "output_type": "execute_result"
    }
   ],
   "source": [
    "rdd_users.groupByKey().mapValues(list).map(lambda x: len(list(x[1]))).take(10)"
   ]
  },
  {
   "cell_type": "code",
   "execution_count": 35,
   "metadata": {},
   "outputs": [
    {
     "data": {
      "text/plain": [
       "954"
      ]
     },
     "execution_count": 35,
     "metadata": {},
     "output_type": "execute_result"
    }
   ],
   "source": [
    "select_type = 2 # Ya he evaluado el rdd. Se queda con el valor 1\n",
    "rdd_users.count()"
   ]
  },
  {
   "cell_type": "code",
   "execution_count": 36,
   "metadata": {},
   "outputs": [
    {
     "data": {
      "text/plain": [
       "913"
      ]
     },
     "execution_count": 36,
     "metadata": {},
     "output_type": "execute_result"
    }
   ],
   "source": [
    "rdd_users.groupByKey().mapValues(list).map(lambda x: len(x[1])).count()"
   ]
  },
  {
   "cell_type": "code",
   "execution_count": 37,
   "metadata": {},
   "outputs": [
    {
     "data": {
      "text/plain": [
       "39"
      ]
     },
     "execution_count": 37,
     "metadata": {},
     "output_type": "execute_result"
    }
   ],
   "source": [
    "rdd_users.groupByKey().mapValues(tuple).filter(lambda x: len(x[1])==2).count()"
   ]
  },
  {
   "cell_type": "markdown",
   "metadata": {},
   "source": [
    "## Adyacentes ordenados"
   ]
  },
  {
   "cell_type": "markdown",
   "metadata": {},
   "source": [
    "Una alternativa a considerar es partir de los datos originales rdd_base \n",
    "y hacer un mapeo y filtro específico para este problema como vimos en \n",
    "la solución al ejercicio Usuarios por Tipo."
   ]
  },
  {
   "cell_type": "markdown",
   "metadata": {},
   "source": [
    "Para fomentar la visión de notebook, de trabajo incremental sobre los datos, \n",
    "podemos partir de los datos generados/seleccionados previamente en rdd_users \n",
    "y quedarnos únicamente con la información que nos interesa: \n",
    "origen y destino de los trayectos."
   ]
  },
  {
   "cell_type": "code",
   "execution_count": 38,
   "metadata": {},
   "outputs": [
    {
     "data": {
      "text/plain": [
       "[(90, 66),\n",
       " (71, 136),\n",
       " (39, 38),\n",
       " (66, 90),\n",
       " (152, 166),\n",
       " (55, 53),\n",
       " (133, 129),\n",
       " (153, 169),\n",
       " (44, 129),\n",
       " (85, 133)]"
      ]
     },
     "execution_count": 38,
     "metadata": {},
     "output_type": "execute_result"
    }
   ],
   "source": [
    "rdd_trips = rdd_users.map(lambda x: (x[1][0], x[1][1]))\n",
    "rdd_trips.take(10)"
   ]
  },
  {
   "cell_type": "code",
   "execution_count": 39,
   "metadata": {},
   "outputs": [
    {
     "data": {
      "text/plain": [
       "954"
      ]
     },
     "execution_count": 39,
     "metadata": {},
     "output_type": "execute_result"
    }
   ],
   "source": [
    "rdd_trips.count()"
   ]
  },
  {
   "cell_type": "code",
   "execution_count": 40,
   "metadata": {},
   "outputs": [
    {
     "data": {
      "text/plain": [
       "[(90, (66, 74, 55, 57, 58, 48, 82, 46, 26, 26, 128, 122, 149, 83)),\n",
       " (66, (90, 90, 141))]"
      ]
     },
     "execution_count": 40,
     "metadata": {},
     "output_type": "execute_result"
    }
   ],
   "source": [
    "# Con un groupBykey agrupamos los trayectos por origen, luego, con los resultados agrupados\n",
    "# generamos la solución: pares con clave la estación de destino y el valor el número de \n",
    "# trayectos que han llegado a ella desde la estación de origen considerada\n",
    "\n",
    "#Primero la agrupación de adyacentes sin orden ni estructura\n",
    "rdd_trips.groupByKey().mapValues(tuple).take(2)\n",
    "#Lo que tenemos que mejorar es la función que utilizamos \n",
    "#en los values asociados a cada clave. "
   ]
  },
  {
   "cell_type": "code",
   "execution_count": 41,
   "metadata": {},
   "outputs": [
    {
     "data": {
      "text/plain": [
       "[(90,\n",
       "  {66: 1,\n",
       "   74: 1,\n",
       "   55: 1,\n",
       "   57: 1,\n",
       "   58: 1,\n",
       "   48: 1,\n",
       "   82: 1,\n",
       "   46: 1,\n",
       "   26: 2,\n",
       "   128: 1,\n",
       "   122: 1,\n",
       "   149: 1,\n",
       "   83: 1}),\n",
       " (66, {90: 2, 141: 1})]"
      ]
     },
     "execution_count": 41,
     "metadata": {},
     "output_type": "execute_result"
    }
   ],
   "source": [
    "#Utilizamos una función definida. Primero la usamos sólo para contar\n",
    "def count(values):\n",
    "    d = {}\n",
    "    for v in values:\n",
    "        if v in d:\n",
    "            d[v] += 1\n",
    "        else:\n",
    "            d[v] = 1\n",
    "    return d\n",
    "            \n",
    "rdd_trips.groupByKey().mapValues(count).take(2)\n",
    "\n"
   ]
  },
  {
   "cell_type": "code",
   "execution_count": 42,
   "metadata": {
    "scrolled": false
   },
   "outputs": [
    {
     "data": {
      "text/plain": [
       "[(90,\n",
       "  [(26, 2),\n",
       "   (66, 1),\n",
       "   (74, 1),\n",
       "   (55, 1),\n",
       "   (57, 1),\n",
       "   (58, 1),\n",
       "   (48, 1),\n",
       "   (82, 1),\n",
       "   (46, 1),\n",
       "   (128, 1),\n",
       "   (122, 1),\n",
       "   (149, 1),\n",
       "   (83, 1)]),\n",
       " (66, [(90, 2), (141, 1)])]"
      ]
     },
     "execution_count": 42,
     "metadata": {},
     "output_type": "execute_result"
    }
   ],
   "source": [
    "#Ahora la mejoramos para que cuente y ordene\n",
    "def count_and_sort(values):\n",
    "    d = {}\n",
    "    for v in values:\n",
    "        if v in d:\n",
    "            d[v] += 1\n",
    "        else:\n",
    "            d[v] = 1\n",
    "    return sorted(d.items(), key=lambda x: x[1], reverse=True)\n",
    "            \n",
    "rdd_trips.groupByKey().mapValues(count_and_sort).take(2)\n",
    "#El resultado nos muestra la estación de origen y luego, en una lista pares \n",
    "#(estación de destino,número de trayectos), ordenados por número de trayectos."
   ]
  },
  {
   "cell_type": "code",
   "execution_count": 43,
   "metadata": {},
   "outputs": [
    {
     "data": {
      "text/plain": [
       "[(90,\n",
       "  Counter({66: 1,\n",
       "           74: 1,\n",
       "           55: 1,\n",
       "           57: 1,\n",
       "           58: 1,\n",
       "           48: 1,\n",
       "           82: 1,\n",
       "           46: 1,\n",
       "           26: 2,\n",
       "           128: 1,\n",
       "           122: 1,\n",
       "           149: 1,\n",
       "           83: 1})),\n",
       " (66, Counter({90: 2, 141: 1})),\n",
       " (152, Counter({166: 1}))]"
      ]
     },
     "execution_count": 43,
     "metadata": {},
     "output_type": "execute_result"
    }
   ],
   "source": [
    "#Nota: Utilizando algunas funciones definidas podemos ahorrarnos la definición de una \n",
    "#función específica\n",
    "\n",
    "from collections import Counter\n",
    "rdd_trips.groupByKey().mapValues(Counter).take(3)"
   ]
  },
  {
   "cell_type": "markdown",
   "metadata": {},
   "source": [
    "## Histograma de viajes por usuario/día"
   ]
  },
  {
   "cell_type": "code",
   "execution_count": 44,
   "metadata": {},
   "outputs": [],
   "source": [
    "result_dict = rdd_users.groupByKey().mapValues(tuple).mapValues(len).\\\n",
    "                map(lambda x: (x[1],x[0])).countByKey()"
   ]
  },
  {
   "cell_type": "code",
   "execution_count": 45,
   "metadata": {},
   "outputs": [
    {
     "name": "stdout",
     "output_type": "stream",
     "text": [
      "total de trayectos iniciales 954\n",
      "defaultdict(<class 'int'>, {1: 873, 2: 39, 3: 1})\n",
      "total de trayectos en histograma 954\n"
     ]
    }
   ],
   "source": [
    "print('total de trayectos iniciales', rdd_users.count())\n",
    "print(result_dict)\n",
    "#pequeña comprobación\n",
    "total = 0 \n",
    "for k,v in result_dict.items():\n",
    "    total += k*v\n",
    "print ('total de trayectos en histograma', total)"
   ]
  },
  {
   "cell_type": "code",
   "execution_count": 46,
   "metadata": {},
   "outputs": [
    {
     "data": {
      "text/plain": [
       "[1, 39, 873]"
      ]
     },
     "execution_count": 46,
     "metadata": {},
     "output_type": "execute_result"
    }
   ],
   "source": [
    "#Para ordenar el diccionario con los resultados por número de viajes\n",
    "sorted(result_dict.values())"
   ]
  },
  {
   "cell_type": "code",
   "execution_count": 47,
   "metadata": {},
   "outputs": [
    {
     "name": "stderr",
     "output_type": "stream",
     "text": [
      "<ipython-input-47-381e4a0a6661>:5: UserWarning: Matplotlib is currently using module://ipykernel.pylab.backend_inline, which is a non-GUI backend, so cannot show the figure.\n",
      "  fig.show()\n"
     ]
    },
    {
     "data": {
      "image/png": "[encoded data removed]",
      "text/plain": [
       "<Figure size 432x288 with 1 Axes>"
      ]
     },
     "metadata": {
      "needs_background": "light"
     },
     "output_type": "display_data"
    }
   ],
   "source": [
    "#Una visualización sencilla\n",
    "import matplotlib.pyplot as plt\n",
    "fig, ax = plt.subplots()\n",
    "ax.bar(result_dict.keys(),result_dict.values())\n",
    "fig.show()\n",
    "#plt.bar(result_dict.keys(),result_dict.values())"
   ]
  },
  {
   "cell_type": "markdown",
   "metadata": {},
   "source": [
    "## Return Trips"
   ]
  },
  {
   "cell_type": "markdown",
   "metadata": {},
   "source": [
    "Dos viajes en un día con el punto de incial de salida igual al final de retorno."
   ]
  },
  {
   "cell_type": "code",
   "execution_count": 48,
   "metadata": {},
   "outputs": [
    {
     "data": {
      "text/plain": [
       "[('bdfbb7774e97c37e95c79efa9e5f1cba2f6672dbf1f71c1faa2bc89e9e423ae0',\n",
       "  ((83, 83, 357), (83, 71, 557))),\n",
       " ('666373647f0221920656942700d5aecaf9820af0253d728171bcd720c9626802',\n",
       "  ((25, 16, 305), (16, 137, 1576))),\n",
       " ('6871a6d476dbe4148705858168f1cb3d4e4620d5a12feede1bb8f9e862d1fad3',\n",
       "  ((151, 115, 406), (115, 90, 171))),\n",
       " ('949315079c264a1adf087a270c02f4a6572c852425b8617d0d12a88cef573aac',\n",
       "  ((83, 2, 698), (1, 83, 656))),\n",
       " ('356bb41910f9a3d80a634ae360fdeaf5830d0abd7ca92b565f6f952c46285f92',\n",
       "  ((117, 120, 1356), (122, 117, 801))),\n",
       " ('57e0ec133d5158883595b995ac86a4dca138d769c14dc6b61e10357fdad95c2c',\n",
       "  ((117, 120, 1350), (122, 117, 713))),\n",
       " ('080764552219f227f966f284b84bb88120b4dc04e1b688c316a06204636ed91e',\n",
       "  ((58, 135, 2477), (135, 34, 1044))),\n",
       " ('ad5f0b4b20c30d2916e0ce8054eac8f8286ec2ffcbc7eb35ae07092e953febf2',\n",
       "  ((18, 7, 526), (7, 8, 127))),\n",
       " ('edcf66a3d0535d09d4bdcc488d4fdf203dd7b15eb303af0efebaa6dd2b4e5a35',\n",
       "  ((55, 86, 273), (86, 79, 468))),\n",
       " ('d889e9ad245726c866c1b44fa1882a39979520f8874da0eeef1178d2ce2cf056',\n",
       "  ((1, 50, 1612), (50, 109, 622)))]"
      ]
     },
     "execution_count": 48,
     "metadata": {},
     "output_type": "execute_result"
    }
   ],
   "source": [
    "rdd_users.groupByKey().mapValues(tuple)\\\n",
    "    .filter(lambda x: len(x[1])==2).take(10)"
   ]
  },
  {
   "cell_type": "code",
   "execution_count": 49,
   "metadata": {},
   "outputs": [
    {
     "name": "stdout",
     "output_type": "stream",
     "text": [
      "False\n",
      "True\n",
      "True\n"
     ]
    }
   ],
   "source": [
    "def cicle(data):\n",
    "    p1 = data[1][0]\n",
    "    p2 = data[1][1]\n",
    "    return p1[0]==p2[1]\n",
    "\n",
    "data = ('bdfbb7774e97c37e95c79efa9e5f1cba2f6672dbf1f71c1faa2bc89e9e423ae0',\n",
    "  ((83, 83, 357), (83, 71, 557)))\n",
    "print(cicle(data))\n",
    "data = ('bdfbb7774e97c37e95c79efa9e5f1cba2f6672dbf1f71c1faa2bc89e9e423ae0',\n",
    "  ((83, 71, 357), (71, 83, 557)))\n",
    "print(cicle(data))\n",
    "data = ('bdfbb7774e97c37e95c79efa9e5f1cba2f6672dbf1f71c1faa2bc89e9e423ae0',\n",
    "  ((83, 2, 357), (1, 83, 557)))\n",
    "print(cicle(data))\n"
   ]
  },
  {
   "cell_type": "code",
   "execution_count": 50,
   "metadata": {},
   "outputs": [],
   "source": [
    "def cicle(data):\n",
    "    p1 = data[1][0]\n",
    "    p2 = data[1][1]\n",
    "    return p1[0]==p2[1]\n",
    "\n",
    "rdd_return_trip = rdd_users.groupByKey().mapValues(tuple)\\\n",
    "    .filter(lambda x: len(x[1])==2).filter(cicle)"
   ]
  },
  {
   "cell_type": "code",
   "execution_count": 51,
   "metadata": {},
   "outputs": [
    {
     "data": {
      "text/plain": [
       "[('949315079c264a1adf087a270c02f4a6572c852425b8617d0d12a88cef573aac',\n",
       "  ((83, 2, 698), (1, 83, 656))),\n",
       " ('356bb41910f9a3d80a634ae360fdeaf5830d0abd7ca92b565f6f952c46285f92',\n",
       "  ((117, 120, 1356), (122, 117, 801))),\n",
       " ('57e0ec133d5158883595b995ac86a4dca138d769c14dc6b61e10357fdad95c2c',\n",
       "  ((117, 120, 1350), (122, 117, 713))),\n",
       " ('9b072106db2910a0cd46f2d8d3bc736d4759a742139294b73a37fb73887fbb71',\n",
       "  ((90, 26, 693), (19, 90, 647))),\n",
       " ('b10c476e28ef97b3f1242714f0f9a3acf287bb5e2d882215aa52f51e973400bd',\n",
       "  ((114, 96, 620), (96, 114, 495))),\n",
       " ('bcef457f1234cc899f285eb1d2f99975c919f49c5d9be2fb5875949a63b7745d',\n",
       "  ((114, 96, 563), (96, 114, 780))),\n",
       " ('f7f4cd3b9b0f8c51b63dd63728b79fadf9d09f16306416d7c1ccf40e8961b1a5',\n",
       "  ((169, 62, 435), (62, 169, 303))),\n",
       " ('13b9c8b5ffecc4d2a8c1d27a810d2fa190c05d68b6a1e829ce89185a47310e6e',\n",
       "  ((125, 6, 499), (6, 125, 510))),\n",
       " ('6fb07b5e128af9a6b562f693cc254566caacae7e03881e38e577703e3d53a4d8',\n",
       "  ((57, 19, 753), (19, 57, 602))),\n",
       " ('acdfb28772892164b2e10e47b6ec2309fba28fd885cc9143275d2a81e59d7898',\n",
       "  ((169, 170, 784), (169, 169, 1419)))]"
      ]
     },
     "execution_count": 51,
     "metadata": {},
     "output_type": "execute_result"
    }
   ],
   "source": [
    "rdd_return_trip.take(10)"
   ]
  },
  {
   "cell_type": "markdown",
   "metadata": {},
   "source": [
    "De qué estaciones salen el mayor número de viajes de ida y vuelta."
   ]
  },
  {
   "cell_type": "code",
   "execution_count": 52,
   "metadata": {},
   "outputs": [
    {
     "data": {
      "text/plain": [
       "[(83, 1),\n",
       " (117, 1),\n",
       " (117, 1),\n",
       " (90, 1),\n",
       " (114, 1),\n",
       " (114, 1),\n",
       " (169, 1),\n",
       " (125, 1),\n",
       " (57, 1),\n",
       " (169, 1)]"
      ]
     },
     "execution_count": 52,
     "metadata": {},
     "output_type": "execute_result"
    }
   ],
   "source": [
    "rdd_return_trip.map(lambda x: (x[1][0][0], 1)).take(10)"
   ]
  },
  {
   "cell_type": "code",
   "execution_count": 53,
   "metadata": {},
   "outputs": [
    {
     "data": {
      "text/plain": [
       "[(90, 2),\n",
       " (114, 2),\n",
       " (117, 2),\n",
       " (169, 2),\n",
       " (42, 1),\n",
       " (83, 1),\n",
       " (125, 1),\n",
       " (57, 1),\n",
       " (129, 1)]"
      ]
     },
     "execution_count": 53,
     "metadata": {},
     "output_type": "execute_result"
    }
   ],
   "source": [
    "rdd_return_trip.map(lambda x: (x[1][0][0], 1)).\\\n",
    "  reduceByKey(lambda x,y: x+y).takeOrdered(10, lambda x: -x[1])"
   ]
  },
  {
   "cell_type": "code",
   "execution_count": null,
   "metadata": {},
   "outputs": [],
   "source": []
  },
  {
   "cell_type": "code",
   "execution_count": null,
   "metadata": {},
   "outputs": [],
   "source": []
  }
 ],
 "metadata": {
  "kernelspec": {
   "display_name": "Python 3",
   "language": "python",
   "name": "python3"
  },
  "language_info": {
   "codemirror_mode": {
    "name": "ipython",
    "version": 3
   },
   "file_extension": ".py",
   "mimetype": "text/x-python",
   "name": "python",
   "nbconvert_exporter": "python",
   "pygments_lexer": "ipython3",
   "version": "3.8.10"
  }
 },
 "nbformat": 4,
 "nbformat_minor": 4
}
